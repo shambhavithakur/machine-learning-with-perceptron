{
 "cells": [
  {
   "cell_type": "markdown",
   "metadata": {
    "papermill": {
     "duration": 0.020067,
     "end_time": "2020-10-05T14:44:44.754012",
     "exception": false,
     "start_time": "2020-10-05T14:44:44.733945",
     "status": "completed"
    },
    "tags": []
   },
   "source": [
    "# Using the Perceptron Algorithm for Machine Learning\n",
    "\n",
    "A perceptron algorithm generates outputs or decisions based on the product of input features and optimal weight coefficients.\n",
    "\n",
    "In this project, we will use the perceptron algorithm to classify flowers, given their sepal and petal lengths. We will use a [Kaggle dataset](https://www.kaggle.com/arshid/iris-flower-dataset) to train the perceptron."
   ]
  },
  {
   "cell_type": "markdown",
   "metadata": {
    "papermill": {
     "duration": 0.017462,
     "end_time": "2020-10-05T14:44:44.790026",
     "exception": false,
     "start_time": "2020-10-05T14:44:44.772564",
     "status": "completed"
    },
    "tags": []
   },
   "source": [
    "## Implementing the perceptron alogrithm in Python"
   ]
  },
  {
   "cell_type": "code",
   "execution_count": 1,
   "metadata": {
    "_cell_guid": "b1076dfc-b9ad-4769-8c92-a6c4dae69d19",
    "_uuid": "8f2839f25d086af736a60e9eeb907d3b93b6e0e5",
    "execution": {
     "iopub.execute_input": "2020-10-05T14:44:44.844948Z",
     "iopub.status.busy": "2020-10-05T14:44:44.844112Z",
     "iopub.status.idle": "2020-10-05T14:44:44.847425Z",
     "shell.execute_reply": "2020-10-05T14:44:44.846808Z"
    },
    "papermill": {
     "duration": 0.039726,
     "end_time": "2020-10-05T14:44:44.847586",
     "exception": false,
     "start_time": "2020-10-05T14:44:44.807860",
     "status": "completed"
    },
    "tags": []
   },
   "outputs": [],
   "source": [
    "# Importing relevant module\n",
    "\n",
    "import numpy as np\n",
    "\n",
    "# Defining the perceptron algorithm as a class\n",
    "\n",
    "class Perceptron(object):\n",
    "    '''\n",
    "    PARAMETERS:\n",
    "    - eta: A float that ranges from 0.0 through 1.0 and represents the\n",
    "    learning rate of the perceptron\n",
    "    - n_iter: An integer that represents the number of times we will\n",
    "    train the perceptron on data from the training dataset\n",
    "    - random_state: A random integer that represents the seed to which the\n",
    "    perceptron will be initialized every time it is run\n",
    "    \n",
    "    ATTRIBUTES:\n",
    "    - w_: A one-dimensional array that represents weights\n",
    "    - errors_: A list that stores the number of misclassifications that the\n",
    "    perceptron made in each epoch\n",
    "    '''\n",
    "    \n",
    "    def __init__(self, eta=0.01, n_iter=50, random_state=1):\n",
    "        self.eta = eta\n",
    "        self.n_iter = n_iter\n",
    "        self.random_state = random_state\n",
    "        \n",
    "        \n",
    "    def fit(self, X, y):\n",
    "        '''\n",
    "        Fits training data\n",
    "        \n",
    "        PARAMETERS\n",
    "        - X: A training vector that has the shape (n_examples, n_features)\n",
    "        - n_examples: The number of examples or rows in the training vector\n",
    "        - n_features: The number of features or columns in the training vector\n",
    "        - y: A one-dimensional array of target values\n",
    "        \n",
    "        OUTPUT\n",
    "        - self, an object\n",
    "        '''        \n",
    "        rgen = np.random.RandomState(self.random_state)\n",
    "        self.w_ = rgen.normal(loc=0.0, scale=0.01, size=1 + X.shape[1])\n",
    "        self.errors_ = []\n",
    "        \n",
    "        for _ in range(self.n_iter):\n",
    "            errors = 0\n",
    "            for xi, target in zip(X, y):\n",
    "                update = self.eta * (target - self.predict(xi))\n",
    "                self.w_[1:] += update * xi\n",
    "                self.w_[0] += update\n",
    "                errors += int(update != 0.0)\n",
    "            self.errors_.append(errors)\n",
    "        return self\n",
    "    \n",
    "    \n",
    "    def net_input(self, X):\n",
    "        '''\n",
    "        Calculates net input\n",
    "        '''        \n",
    "        return np.dot(X, self.w_[1:]) + self.w_[0]\n",
    "    \n",
    "    \n",
    "    def predict(self, X):\n",
    "        '''\n",
    "        Returns class label\n",
    "        '''\n",
    "        return np.where(self.net_input(X) >= 0.0, 1, -1)    "
   ]
  },
  {
   "cell_type": "markdown",
   "metadata": {
    "papermill": {
     "duration": 0.017671,
     "end_time": "2020-10-05T14:44:44.883705",
     "exception": false,
     "start_time": "2020-10-05T14:44:44.866034",
     "status": "completed"
    },
    "tags": []
   },
   "source": [
    "## Training a perceptron model"
   ]
  },
  {
   "cell_type": "code",
   "execution_count": 2,
   "metadata": {
    "execution": {
     "iopub.execute_input": "2020-10-05T14:44:44.930893Z",
     "iopub.status.busy": "2020-10-05T14:44:44.930103Z",
     "iopub.status.idle": "2020-10-05T14:44:44.942450Z",
     "shell.execute_reply": "2020-10-05T14:44:44.941688Z"
    },
    "papermill": {
     "duration": 0.039293,
     "end_time": "2020-10-05T14:44:44.942616",
     "exception": false,
     "start_time": "2020-10-05T14:44:44.903323",
     "status": "completed"
    },
    "tags": []
   },
   "outputs": [],
   "source": [
    "# Importing the required dataset\n",
    "\n",
    "import pandas as pd\n",
    "\n",
    "df = pd.read_csv('../input/iris-flower-dataset/IRIS.csv')"
   ]
  },
  {
   "cell_type": "code",
   "execution_count": 3,
   "metadata": {
    "execution": {
     "iopub.execute_input": "2020-10-05T14:44:44.995614Z",
     "iopub.status.busy": "2020-10-05T14:44:44.994789Z",
     "iopub.status.idle": "2020-10-05T14:44:45.006445Z",
     "shell.execute_reply": "2020-10-05T14:44:45.005532Z"
    },
    "papermill": {
     "duration": 0.045264,
     "end_time": "2020-10-05T14:44:45.006612",
     "exception": false,
     "start_time": "2020-10-05T14:44:44.961348",
     "status": "completed"
    },
    "tags": []
   },
   "outputs": [
    {
     "data": {
      "text/html": [
       "<div>\n",
       "<style scoped>\n",
       "    .dataframe tbody tr th:only-of-type {\n",
       "        vertical-align: middle;\n",
       "    }\n",
       "\n",
       "    .dataframe tbody tr th {\n",
       "        vertical-align: top;\n",
       "    }\n",
       "\n",
       "    .dataframe thead th {\n",
       "        text-align: right;\n",
       "    }\n",
       "</style>\n",
       "<table border=\"1\" class=\"dataframe\">\n",
       "  <thead>\n",
       "    <tr style=\"text-align: right;\">\n",
       "      <th></th>\n",
       "      <th>sepal_length</th>\n",
       "      <th>sepal_width</th>\n",
       "      <th>petal_length</th>\n",
       "      <th>petal_width</th>\n",
       "      <th>species</th>\n",
       "    </tr>\n",
       "  </thead>\n",
       "  <tbody>\n",
       "    <tr>\n",
       "      <th>0</th>\n",
       "      <td>5.1</td>\n",
       "      <td>3.5</td>\n",
       "      <td>1.4</td>\n",
       "      <td>0.2</td>\n",
       "      <td>Iris-setosa</td>\n",
       "    </tr>\n",
       "    <tr>\n",
       "      <th>1</th>\n",
       "      <td>4.9</td>\n",
       "      <td>3.0</td>\n",
       "      <td>1.4</td>\n",
       "      <td>0.2</td>\n",
       "      <td>Iris-setosa</td>\n",
       "    </tr>\n",
       "    <tr>\n",
       "      <th>2</th>\n",
       "      <td>4.7</td>\n",
       "      <td>3.2</td>\n",
       "      <td>1.3</td>\n",
       "      <td>0.2</td>\n",
       "      <td>Iris-setosa</td>\n",
       "    </tr>\n",
       "  </tbody>\n",
       "</table>\n",
       "</div>"
      ],
      "text/plain": [
       "   sepal_length  sepal_width  petal_length  petal_width      species\n",
       "0           5.1          3.5           1.4          0.2  Iris-setosa\n",
       "1           4.9          3.0           1.4          0.2  Iris-setosa\n",
       "2           4.7          3.2           1.3          0.2  Iris-setosa"
      ]
     },
     "execution_count": 3,
     "metadata": {},
     "output_type": "execute_result"
    }
   ],
   "source": [
    "df.head(3)"
   ]
  },
  {
   "cell_type": "code",
   "execution_count": 4,
   "metadata": {
    "execution": {
     "iopub.execute_input": "2020-10-05T14:44:45.065961Z",
     "iopub.status.busy": "2020-10-05T14:44:45.065067Z",
     "iopub.status.idle": "2020-10-05T14:44:45.070360Z",
     "shell.execute_reply": "2020-10-05T14:44:45.069595Z"
    },
    "papermill": {
     "duration": 0.044354,
     "end_time": "2020-10-05T14:44:45.070521",
     "exception": false,
     "start_time": "2020-10-05T14:44:45.026167",
     "status": "completed"
    },
    "tags": []
   },
   "outputs": [
    {
     "name": "stdout",
     "output_type": "stream",
     "text": [
      "<class 'pandas.core.frame.DataFrame'>\n",
      "RangeIndex: 150 entries, 0 to 149\n",
      "Data columns (total 5 columns):\n",
      " #   Column        Non-Null Count  Dtype  \n",
      "---  ------        --------------  -----  \n",
      " 0   sepal_length  150 non-null    float64\n",
      " 1   sepal_width   150 non-null    float64\n",
      " 2   petal_length  150 non-null    float64\n",
      " 3   petal_width   150 non-null    float64\n",
      " 4   species       150 non-null    object \n",
      "dtypes: float64(4), object(1)\n",
      "memory usage: 6.0+ KB\n"
     ]
    }
   ],
   "source": [
    "df.info()"
   ]
  },
  {
   "cell_type": "markdown",
   "metadata": {
    "papermill": {
     "duration": 0.019238,
     "end_time": "2020-10-05T14:44:45.110446",
     "exception": false,
     "start_time": "2020-10-05T14:44:45.091208",
     "status": "completed"
    },
    "tags": []
   },
   "source": [
    "The species column of the dataset lists three species."
   ]
  },
  {
   "cell_type": "code",
   "execution_count": 5,
   "metadata": {
    "execution": {
     "iopub.execute_input": "2020-10-05T14:44:45.161842Z",
     "iopub.status.busy": "2020-10-05T14:44:45.160808Z",
     "iopub.status.idle": "2020-10-05T14:44:45.165342Z",
     "shell.execute_reply": "2020-10-05T14:44:45.164498Z"
    },
    "papermill": {
     "duration": 0.035366,
     "end_time": "2020-10-05T14:44:45.165472",
     "exception": false,
     "start_time": "2020-10-05T14:44:45.130106",
     "status": "completed"
    },
    "tags": []
   },
   "outputs": [
    {
     "data": {
      "text/plain": [
       "Iris-virginica     50\n",
       "Iris-versicolor    50\n",
       "Iris-setosa        50\n",
       "Name: species, dtype: int64"
      ]
     },
     "execution_count": 5,
     "metadata": {},
     "output_type": "execute_result"
    }
   ],
   "source": [
    "df.species.value_counts()"
   ]
  },
  {
   "cell_type": "markdown",
   "metadata": {
    "papermill": {
     "duration": 0.020261,
     "end_time": "2020-10-05T14:44:45.206237",
     "exception": false,
     "start_time": "2020-10-05T14:44:45.185976",
     "status": "completed"
    },
    "tags": []
   },
   "source": [
    "In this project, we will use only the setosa and versicolor species. Let us extract rows that pertain to these species and then convert the species names to binary values, -1 for setosa and 1 for versicolor. These values will be our target."
   ]
  },
  {
   "cell_type": "code",
   "execution_count": 6,
   "metadata": {
    "execution": {
     "iopub.execute_input": "2020-10-05T14:44:45.261220Z",
     "iopub.status.busy": "2020-10-05T14:44:45.260128Z",
     "iopub.status.idle": "2020-10-05T14:44:45.263696Z",
     "shell.execute_reply": "2020-10-05T14:44:45.263006Z"
    },
    "papermill": {
     "duration": 0.036232,
     "end_time": "2020-10-05T14:44:45.263824",
     "exception": false,
     "start_time": "2020-10-05T14:44:45.227592",
     "status": "completed"
    },
    "tags": []
   },
   "outputs": [],
   "source": [
    "y = df.loc[0:99, 'species'].values"
   ]
  },
  {
   "cell_type": "code",
   "execution_count": 7,
   "metadata": {
    "execution": {
     "iopub.execute_input": "2020-10-05T14:44:45.312586Z",
     "iopub.status.busy": "2020-10-05T14:44:45.311522Z",
     "iopub.status.idle": "2020-10-05T14:44:45.314797Z",
     "shell.execute_reply": "2020-10-05T14:44:45.313990Z"
    },
    "papermill": {
     "duration": 0.029667,
     "end_time": "2020-10-05T14:44:45.314944",
     "exception": false,
     "start_time": "2020-10-05T14:44:45.285277",
     "status": "completed"
    },
    "tags": []
   },
   "outputs": [],
   "source": [
    "y = np.where(y=='Iris-setosa', -1, 1)"
   ]
  },
  {
   "cell_type": "markdown",
   "metadata": {
    "papermill": {
     "duration": 0.021177,
     "end_time": "2020-10-05T14:44:45.359194",
     "exception": false,
     "start_time": "2020-10-05T14:44:45.338017",
     "status": "completed"
    },
    "tags": []
   },
   "source": [
    "Next, we will extract the two independent features on which we want to train the perceptron."
   ]
  },
  {
   "cell_type": "code",
   "execution_count": 8,
   "metadata": {
    "execution": {
     "iopub.execute_input": "2020-10-05T14:44:45.410204Z",
     "iopub.status.busy": "2020-10-05T14:44:45.408974Z",
     "iopub.status.idle": "2020-10-05T14:44:45.411886Z",
     "shell.execute_reply": "2020-10-05T14:44:45.412445Z"
    },
    "papermill": {
     "duration": 0.032764,
     "end_time": "2020-10-05T14:44:45.412637",
     "exception": false,
     "start_time": "2020-10-05T14:44:45.379873",
     "status": "completed"
    },
    "tags": []
   },
   "outputs": [],
   "source": [
    "X = df.loc[0:99, ['sepal_length', 'petal_length']].values"
   ]
  },
  {
   "cell_type": "markdown",
   "metadata": {
    "papermill": {
     "duration": 0.020936,
     "end_time": "2020-10-05T14:44:45.455057",
     "exception": false,
     "start_time": "2020-10-05T14:44:45.434121",
     "status": "completed"
    },
    "tags": []
   },
   "source": [
    "How are the independent variables distributed per specifies?"
   ]
  },
  {
   "cell_type": "code",
   "execution_count": 9,
   "metadata": {
    "execution": {
     "iopub.execute_input": "2020-10-05T14:44:45.504010Z",
     "iopub.status.busy": "2020-10-05T14:44:45.503162Z",
     "iopub.status.idle": "2020-10-05T14:44:46.758634Z",
     "shell.execute_reply": "2020-10-05T14:44:46.759232Z"
    },
    "papermill": {
     "duration": 1.282912,
     "end_time": "2020-10-05T14:44:46.759408",
     "exception": false,
     "start_time": "2020-10-05T14:44:45.476496",
     "status": "completed"
    },
    "tags": []
   },
   "outputs": [],
   "source": [
    "# Setting the environment for plots\n",
    "\n",
    "import seaborn as sns\n",
    "import util_eda as ueda\n",
    "import matplotlib.pyplot as plt\n",
    "\n",
    "ueda.set_sns_styles()"
   ]
  },
  {
   "cell_type": "code",
   "execution_count": 10,
   "metadata": {
    "execution": {
     "iopub.execute_input": "2020-10-05T14:44:46.809962Z",
     "iopub.status.busy": "2020-10-05T14:44:46.809120Z",
     "iopub.status.idle": "2020-10-05T14:44:47.241783Z",
     "shell.execute_reply": "2020-10-05T14:44:47.240865Z"
    },
    "papermill": {
     "duration": 0.461505,
     "end_time": "2020-10-05T14:44:47.241961",
     "exception": false,
     "start_time": "2020-10-05T14:44:46.780456",
     "status": "completed"
    },
    "tags": []
   },
   "outputs": [
    {
     "data": {
      "image/png": "[encoded data removed]",
      "text/plain": [
       "<Figure size 432x288 with 1 Axes>"
      ]
     },
     "metadata": {},
     "output_type": "display_data"
    }
   ],
   "source": [
    "plt.scatter(X[:50, 0], X[:50, 1], marker='o', label='Setosa')\n",
    "plt.scatter(X[50:, 0], X[50:, 1], marker='x', label='Versicolor')\n",
    "\n",
    "plt.xlabel('Sepal length [cm]')\n",
    "plt.ylabel('Petal length [cm]')\n",
    "plt.legend(loc='upper left');"
   ]
  },
  {
   "cell_type": "markdown",
   "metadata": {
    "papermill": {
     "duration": 0.022665,
     "end_time": "2020-10-05T14:44:47.287373",
     "exception": false,
     "start_time": "2020-10-05T14:44:47.264708",
     "status": "completed"
    },
    "tags": []
   },
   "source": [
    "The distributions for the two species are distinct and easy to identify in a graph. A perceptron model should be able to classify the independent variables accurately. Let us train a perceptron and find out how it performs."
   ]
  },
  {
   "cell_type": "code",
   "execution_count": 11,
   "metadata": {
    "execution": {
     "iopub.execute_input": "2020-10-05T14:44:47.370345Z",
     "iopub.status.busy": "2020-10-05T14:44:47.369294Z",
     "iopub.status.idle": "2020-10-05T14:44:47.372534Z",
     "shell.execute_reply": "2020-10-05T14:44:47.371895Z"
    },
    "papermill": {
     "duration": 0.062823,
     "end_time": "2020-10-05T14:44:47.372676",
     "exception": false,
     "start_time": "2020-10-05T14:44:47.309853",
     "status": "completed"
    },
    "tags": []
   },
   "outputs": [],
   "source": [
    "perceptron = Perceptron(eta=0.1, n_iter=10)\n",
    "perceptron.fit(X, y);"
   ]
  },
  {
   "cell_type": "markdown",
   "metadata": {
    "papermill": {
     "duration": 0.021884,
     "end_time": "2020-10-05T14:44:47.416805",
     "exception": false,
     "start_time": "2020-10-05T14:44:47.394921",
     "status": "completed"
    },
    "tags": []
   },
   "source": [
    "Next, let us plot any misclassification errors in each training epoch."
   ]
  },
  {
   "cell_type": "code",
   "execution_count": 12,
   "metadata": {
    "execution": {
     "iopub.execute_input": "2020-10-05T14:44:47.475866Z",
     "iopub.status.busy": "2020-10-05T14:44:47.474035Z",
     "iopub.status.idle": "2020-10-05T14:44:47.786593Z",
     "shell.execute_reply": "2020-10-05T14:44:47.785723Z"
    },
    "papermill": {
     "duration": 0.347855,
     "end_time": "2020-10-05T14:44:47.786734",
     "exception": false,
     "start_time": "2020-10-05T14:44:47.438879",
     "status": "completed"
    },
    "tags": []
   },
   "outputs": [
    {
     "data": {
      "image/png": "[encoded data removed]",
      "text/plain": [
       "<Figure size 432x288 with 1 Axes>"
      ]
     },
     "metadata": {},
     "output_type": "display_data"
    }
   ],
   "source": [
    "plt.plot(range(1, len(perceptron.errors_) + 1),\\\n",
    "         perceptron.errors_, marker='o')\n",
    "plt.xlabel('Epoch')\n",
    "plt.ylabel('Number of updates');"
   ]
  },
  {
   "cell_type": "markdown",
   "metadata": {
    "papermill": {
     "duration": 0.023066,
     "end_time": "2020-10-05T14:44:47.836443",
     "exception": false,
     "start_time": "2020-10-05T14:44:47.813377",
     "status": "completed"
    },
    "tags": []
   },
   "source": [
    "The graph shows that the perceptron was able to classify the data accurately from the 6$^{th}$ epoch onwards.\n",
    "\n",
    "Let us also plot the decision boundaries of the data. We will write a function to do so and then implement the function."
   ]
  },
  {
   "cell_type": "code",
   "execution_count": 13,
   "metadata": {
    "execution": {
     "iopub.execute_input": "2020-10-05T14:44:47.902626Z",
     "iopub.status.busy": "2020-10-05T14:44:47.901640Z",
     "iopub.status.idle": "2020-10-05T14:44:47.904307Z",
     "shell.execute_reply": "2020-10-05T14:44:47.904866Z"
    },
    "papermill": {
     "duration": 0.045271,
     "end_time": "2020-10-05T14:44:47.905030",
     "exception": false,
     "start_time": "2020-10-05T14:44:47.859759",
     "status": "completed"
    },
    "tags": []
   },
   "outputs": [],
   "source": [
    "from matplotlib.colors import ListedColormap\n",
    "\n",
    "def plot_decision_boundaries(X, y, classifier, resolution=0.02):\n",
    "    markers = ('o', 'x')\n",
    "    colors = ('red', 'blue')\n",
    "    cmap = ListedColormap(colors[:len(np.unique(y))])\n",
    "    \n",
    "    x1_min, x1_max = X[:, 0].min() - 1, X[:, 0].max() + 1\n",
    "    x2_min, x2_max = X[:, 1].min() - 1, X[:, 1].max() + 1\n",
    "    \n",
    "    xx1, xx2 = np.meshgrid(np.arange(x1_min, x1_max, resolution),\n",
    "                           np.arange(x2_min, x2_max, resolution))\n",
    "    \n",
    "    Z = classifier.predict(np.array([xx1.ravel(), xx2.ravel()]).T)\n",
    "    Z = Z.reshape(xx1.shape)\n",
    "    \n",
    "    plt.contourf(xx1, xx2, Z, alpha=0.3, cmap=cmap)\n",
    "    plt.xlim(xx1.min(), xx1.max())\n",
    "    plt.ylim(xx2.min(), xx2.max())\n",
    "    \n",
    "    for idx, cl in enumerate(np.unique(y)):\n",
    "        plt.scatter(x=X[y==cl, 0], y=X[y==cl, 1], alpha=0.8,\\\n",
    "                    c=colors[idx], marker=markers[idx],\\\n",
    "                    label='Setosa' if cl==-1 else 'Versicolor',\\\n",
    "                    edgecolor='black')"
   ]
  },
  {
   "cell_type": "code",
   "execution_count": 14,
   "metadata": {
    "execution": {
     "iopub.execute_input": "2020-10-05T14:44:47.958614Z",
     "iopub.status.busy": "2020-10-05T14:44:47.957834Z",
     "iopub.status.idle": "2020-10-05T14:44:48.356714Z",
     "shell.execute_reply": "2020-10-05T14:44:48.355763Z"
    },
    "papermill": {
     "duration": 0.42829,
     "end_time": "2020-10-05T14:44:48.356867",
     "exception": false,
     "start_time": "2020-10-05T14:44:47.928577",
     "status": "completed"
    },
    "tags": []
   },
   "outputs": [
    {
     "data": {
      "image/png": "[encoded data removed]",
      "text/plain": [
       "<Figure size 432x288 with 1 Axes>"
      ]
     },
     "metadata": {},
     "output_type": "display_data"
    }
   ],
   "source": [
    "plot_decision_boundaries(X, y, classifier=perceptron)\n",
    "\n",
    "plt.xlabel('Sepal length [cm]')\n",
    "plt.ylabel('Petal length [cm]')\n",
    "plt.legend(loc='upper left');"
   ]
  },
  {
   "cell_type": "markdown",
   "metadata": {
    "papermill": {
     "duration": 0.030752,
     "end_time": "2020-10-05T14:44:48.420924",
     "exception": false,
     "start_time": "2020-10-05T14:44:48.390172",
     "status": "completed"
    },
    "tags": []
   },
   "source": [
    "There are distinct decision regions and a decision boundary in the graph. The perceptron was able to classify all the flowers correctly."
   ]
  },
  {
   "cell_type": "markdown",
   "metadata": {
    "papermill": {
     "duration": 0.02504,
     "end_time": "2020-10-05T14:44:48.470736",
     "exception": false,
     "start_time": "2020-10-05T14:44:48.445696",
     "status": "completed"
    },
    "tags": []
   },
   "source": []
  }
 ],
 "metadata": {
  "kernelspec": {
   "display_name": "Python 3",
   "language": "python",
   "name": "python3"
  },
  "language_info": {
   "codemirror_mode": {
    "name": "ipython",
    "version": 3
   },
   "file_extension": ".py",
   "mimetype": "text/x-python",
   "name": "python",
   "nbconvert_exporter": "python",
   "pygments_lexer": "ipython3",
   "version": "3.7.6"
  },
  "papermill": {
   "duration": 9.305366,
   "end_time": "2020-10-05T14:44:48.603764",
   "environment_variables": {},
   "exception": null,
   "input_path": "__notebook__.ipynb",
   "output_path": "__notebook__.ipynb",
   "parameters": {},
   "start_time": "2020-10-05T14:44:39.298398",
   "version": "2.1.0"
  }
 },
 "nbformat": 4,
 "nbformat_minor": 4
}
